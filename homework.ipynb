{
 "cells": [
  {
   "cell_type": "code",
   "execution_count": null,
   "id": "e5ddecef",
   "metadata": {},
   "outputs": [],
   "source": [
    "import numpy as np\n",
    "from random import randint\n",
    "matrix1 = np.empty((12,12), int)\n",
    "matrix2 = np.empty((12,12), int)\n",
    "\n",
    "for i in range(0, 12):\n",
    "    for j in range(0,12):\n",
    "        matrix1[i][j] = randint(0,100)\n",
    "        matrix2[i][j] = randint(0,100)\n",
    "print(matrix1)\n",
    "\n",
    "optional_row = matrix1[1]\n",
    "optional_col = matrix1[:, 4]\n",
    "\n",
    "print(optional_row)\n",
    "print(optional_col)\n",
    "\n",
    "print(matrix1[matrix1 > 5])"
   ]
  }
 ],
 "metadata": {
  "kernelspec": {
   "display_name": "Python 3 (ipykernel)",
   "language": "python",
   "name": "python3"
  },
  "language_info": {
   "codemirror_mode": {
    "name": "ipython",
    "version": 3
   },
   "file_extension": ".py",
   "mimetype": "text/x-python",
   "name": "python",
   "nbconvert_exporter": "python",
   "pygments_lexer": "ipython3",
   "version": "3.9.7"
  }
 },
 "nbformat": 4,
 "nbformat_minor": 5
}
