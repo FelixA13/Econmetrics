{
 "cells": [
  {
   "cell_type": "code",
   "execution_count": null,
   "id": "bdc6c061",
   "metadata": {},
   "outputs": [],
   "source": [
    "import numpy as np\n",
    "\n",
    "\n",
    "matrix1 = np.array([(1,2,3),(4,5,6),(7,8,9)])\n",
    "\n",
    "matrix1.shape\n",
    "\n",
    "print(matrix1.ndim)\n",
    "\n",
    "print(matrix1.size)\n",
    "\n",
    "print(matrix1.reshape(1,9))\n",
    "\n",
    "print(np.ones((3,3)))\n",
    "\n",
    "print(np.eye(5))\n",
    "\n",
    "\n",
    "print(np.full((3,3),5))\n",
    "\n",
    "print(np.empty((3,3)))\n",
    "\n",
    "print(np.empty(2))\n",
    "\n",
    "matrix2 = np.array([(10,11,12),(13,14,15),(16,17,18)])\n",
    "\n",
    "print(matrix1+matrix2)\n",
    "\n",
    "\n",
    "print(np.delete(matrix1, 1, axis=0))\n",
    "\n",
    "print(np.mean(matrix1, axis=0))\n",
    "\n",
    "print(matrix2[1,2])\n",
    "print(matrix2[: , 1])\n",
    "print(matrix2[matrix2 > 10])\n",
    "print(matrix1 < 5)\n",
    "\n",
    "matrix3 = np.array([(1,4,7),(3,8,5),(9,2,6),(11,0,22)])\n",
    "print(matrix3[:,1])\n",
    "print(matrix3[2,:])\n",
    "\n",
    "\n",
    "matrix4 = np.array([(67,4,23),(44,12,7),(88,6,0),(65,2,17)])\n",
    "print(np.append(matrix4,np.array([1,2,3])))\n",
    "print(matrix4[matrix4 > 5])"
   ]
  }
 ],
 "metadata": {
  "kernelspec": {
   "display_name": "Python 3 (ipykernel)",
   "language": "python",
   "name": "python3"
  },
  "language_info": {
   "codemirror_mode": {
    "name": "ipython",
    "version": 3
   },
   "file_extension": ".py",
   "mimetype": "text/x-python",
   "name": "python",
   "nbconvert_exporter": "python",
   "pygments_lexer": "ipython3",
   "version": "3.9.7"
  }
 },
 "nbformat": 4,
 "nbformat_minor": 5
}
